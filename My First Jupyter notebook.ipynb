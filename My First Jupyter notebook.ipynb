{
 "cells": [
  {
   "cell_type": "code",
   "execution_count": null,
   "metadata": {},
   "outputs": [],
   "source": [
    "#This is my first Jupyter Notebook file\n",
    "#This is taken from the article 'Python for Data Science: From Scratch' by Richa Yadav\n",
    "#The following is the link: https://towardsdatascience.com/python-for-data-science-from-scratch-part-i-390f01d91748"
   ]
  },
  {
   "cell_type": "code",
   "execution_count": 1,
   "metadata": {},
   "outputs": [
    {
     "name": "stdout",
     "output_type": "stream",
     "text": [
      "I am going to be a future Data Scientist at Airbnb\n"
     ]
    }
   ],
   "source": [
    "#Dreams Comes True\n",
    "print(\"I am going to be a future Data Scientist at Airbnb\")"
   ]
  },
  {
   "cell_type": "code",
   "execution_count": 2,
   "metadata": {},
   "outputs": [
    {
     "name": "stdout",
     "output_type": "stream",
     "text": [
      "Arjun\n",
      "Kunti\n",
      "Karna\n",
      "Eklavya\n",
      "Maharishi Dronacharya\n"
     ]
    }
   ],
   "source": [
    "mahabarata = ['Arjun','Kunti','Karna','Eklavya','Dronacharya']\n",
    "for name in mahabarata:\n",
    "    if name == 'Dronacharya':\n",
    "        print('Maharishi '+name)\n",
    "    else:\n",
    "        print(name)"
   ]
  },
  {
   "cell_type": "code",
   "execution_count": 5,
   "metadata": {},
   "outputs": [
    {
     "name": "stdout",
     "output_type": "stream",
     "text": [
      "도꾸❤️먐미\n",
      "도꾸\n",
      "미녀\n",
      "영제\n",
      "승현\n"
     ]
    }
   ],
   "source": [
    "#이거슨 냥냥이네 관계도이다 몇몇 인원들은 생략함\n",
    "냥냥이네 = ['먐미','도꾸','미녀','영제','승현']\n",
    "for name in 냥냥이네:\n",
    "    if name == '먐미':\n",
    "        print('도꾸❤️'+name)\n",
    "    else:\n",
    "        print(name)"
   ]
  },
  {
   "cell_type": "code",
   "execution_count": 18,
   "metadata": {},
   "outputs": [
    {
     "name": "stdout",
     "output_type": "stream",
     "text": [
      "먐미와 도꾸\n",
      "도꾸를사랑하는먐미\n",
      "먐미를사랑하는도꾸\n"
     ]
    }
   ],
   "source": [
    "#이거슨 먐미와 도꾸의 관계를 코드로 정리한 것이다냥🐱\n",
    "print('먐미와 도꾸')\n",
    "먐미와도꾸 = ['먐미','도꾸']\n",
    "for name in 먐미와도꾸:\n",
    "    if name == '먐미':\n",
    "        print('도꾸를사랑하는'+name)\n",
    "    else:\n",
    "        print('먐미를사랑하는'+name)"
   ]
  },
  {
   "cell_type": "code",
   "execution_count": 39,
   "metadata": {},
   "outputs": [
    {
     "name": "stdout",
     "output_type": "stream",
     "text": [
      "Data_Types_in_Python\n",
      "integer: -N,-N+1,...,-1,0,1,...,N-1,N\n",
      "string: 'any combination of input in tick-marks'\n",
      "boolean: write down an example of Boolean when you find out\n"
     ]
    }
   ],
   "source": [
    "#Different Data types in Python\n",
    "print('Data_Types_in_Python')\n",
    "Data_Types_in_Python = ['integer','string','boolean']\n",
    "for name in Data_Types_in_Python:\n",
    "    if name == 'integer':\n",
    "        print('integer: -N,-N+1,...,-1,0,1,...,N-1,N')\n",
    "    if name == 'string':\n",
    "        print(\"string: 'any combination of input in tick-marks'\")\n",
    "    if name == 'boolean':\n",
    "        print('boolean: write down an example of Boolean when you find out')"
   ]
  },
  {
   "cell_type": "code",
   "execution_count": 15,
   "metadata": {},
   "outputs": [
    {
     "name": "stdout",
     "output_type": "stream",
     "text": [
      "4 <class 'int'>\n",
      "four <class 'str'>\n"
     ]
    }
   ],
   "source": [
    "#Python Code\n",
    "x = 4\n",
    "print(x,type(x))\n",
    "x = 'four'\n",
    "print(x,type(x))"
   ]
  },
  {
   "cell_type": "code",
   "execution_count": 20,
   "metadata": {},
   "outputs": [
    {
     "ename": "SyntaxError",
     "evalue": "invalid syntax (<ipython-input-20-0eaa29846b48>, line 2)",
     "output_type": "error",
     "traceback": [
      "\u001b[0;36m  File \u001b[0;32m\"<ipython-input-20-0eaa29846b48>\"\u001b[0;36m, line \u001b[0;32m2\u001b[0m\n\u001b[0;31m    *(C, Code, */)\u001b[0m\n\u001b[0m                ^\u001b[0m\n\u001b[0;31mSyntaxError\u001b[0m\u001b[0;31m:\u001b[0m invalid syntax\n"
     ]
    }
   ],
   "source": [
    "#This is an example of a C code where assigning any kind of data to any variable will lead to an error\n",
    "/* C Code */\n",
    "int x = 8;\n",
    "x = 'four' //Error here!"
   ]
  },
  {
   "cell_type": "code",
   "execution_count": 24,
   "metadata": {},
   "outputs": [
    {
     "name": "stdout",
     "output_type": "stream",
     "text": [
      "'That's correct!''\n"
     ]
    }
   ],
   "source": [
    "#if block\n",
    "if 2+2+1 == 5: #Check if 2+2+1 is equal to 5\n",
    "    print(\"'That's correct!''\") #if yes print a statement"
   ]
  },
  {
   "cell_type": "code",
   "execution_count": 25,
   "metadata": {},
   "outputs": [
    {
     "name": "stdout",
     "output_type": "stream",
     "text": [
      "Everything is alright! :D\n"
     ]
    }
   ],
   "source": [
    "#elif block\n",
    "threshold = 21 #Declare two variable that\n",
    "x = 7          #We might use in the statements\n",
    "if(x > threshold):    #if this condition is true, no other test is done.\n",
    "    print(\"Ring an alarm!\")\n",
    "elif(x == threshold): #if the first condition holds false, this condition is checked\n",
    "    print(\"Things might get dangerous now!\")\n",
    "else:          #Finally, if two conditions don't hold true,\n",
    "    print(\"Everything is alright! :D\")     #By default the statement under this block is executed"
   ]
  },
  {
   "cell_type": "code",
   "execution_count": 30,
   "metadata": {},
   "outputs": [
    {
     "name": "stdout",
     "output_type": "stream",
     "text": [
      "295\n",
      "274\n"
     ]
    }
   ],
   "source": [
    "#for loop\n",
    "total = 0      #declare a variable to keep the total\n",
    "sales = [40,60,None,None,35,60,None,100]   #a list that stores numbers\n",
    "for i in sales:         #for loop continues untill list sales is completely scanned.\n",
    "    if i == None:       #look if the iterator terms is equal to 'None'\n",
    "        continue        #continue keyword skips the remainder of the block\n",
    "                        #and reaches back to for statement\n",
    "    else:\n",
    "        total=total+i   #if not 'None', add number to total\n",
    "print(total)\n",
    "\n",
    "#############################################################\n",
    "#while loop\n",
    "total = 12\n",
    "number = 150\n",
    "while number > 0:       #loop until number > 0\n",
    "    if total > 250:     #check if total reaches 250\n",
    "        break           #if it does, exist permanently\n",
    "    else:\n",
    "        total = total + number #otherwise, add it to the total\n",
    "        number=number//2       #divide number with 2\n",
    "print(total)"
   ]
  },
  {
   "cell_type": "code",
   "execution_count": null,
   "metadata": {},
   "outputs": [],
   "source": []
  }
 ],
 "metadata": {
  "kernelspec": {
   "display_name": "Python 3",
   "language": "python",
   "name": "python3"
  },
  "language_info": {
   "codemirror_mode": {
    "name": "ipython",
    "version": 3
   },
   "file_extension": ".py",
   "mimetype": "text/x-python",
   "name": "python",
   "nbconvert_exporter": "python",
   "pygments_lexer": "ipython3",
   "version": "3.7.1"
  }
 },
 "nbformat": 4,
 "nbformat_minor": 2
}
