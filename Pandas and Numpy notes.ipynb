{
 "cells": [
  {
   "cell_type": "code",
   "execution_count": 1,
   "metadata": {},
   "outputs": [],
   "source": [
    "import pandas as pd\n",
    "import scipy as sp\n",
    "import numpy as np"
   ]
  },
  {
   "cell_type": "code",
   "execution_count": 6,
   "metadata": {},
   "outputs": [
    {
     "data": {
      "text/plain": [
       "0    1.0\n",
       "1    3.0\n",
       "2    5.0\n",
       "3    6.0\n",
       "4    NaN\n",
       "dtype: float64"
      ]
     },
     "execution_count": 6,
     "metadata": {},
     "output_type": "execute_result"
    }
   ],
   "source": [
    "x = pd.Series([1,3,5,6,np.nan]) #Create an integer index\n",
    "x"
   ]
  },
  {
   "cell_type": "code",
   "execution_count": 5,
   "metadata": {},
   "outputs": [
    {
     "data": {
      "text/plain": [
       "DatetimeIndex(['2014-10-13', '2014-10-14', '2014-10-15', '2014-10-16',\n",
       "               '2014-10-17', '2014-10-18', '2014-10-19', '2014-10-20',\n",
       "               '2014-10-21', '2014-10-22', '2014-10-23', '2014-10-24'],\n",
       "              dtype='datetime64[ns]', freq='D')"
      ]
     },
     "execution_count": 5,
     "metadata": {},
     "output_type": "execute_result"
    }
   ],
   "source": [
    "dates = pd.date_range('20141013',periods=12) #print out date with range\n",
    "dates"
   ]
  },
  {
   "cell_type": "code",
   "execution_count": 8,
   "metadata": {},
   "outputs": [
    {
     "data": {
      "text/html": [
       "<div>\n",
       "<style scoped>\n",
       "    .dataframe tbody tr th:only-of-type {\n",
       "        vertical-align: middle;\n",
       "    }\n",
       "\n",
       "    .dataframe tbody tr th {\n",
       "        vertical-align: top;\n",
       "    }\n",
       "\n",
       "    .dataframe thead th {\n",
       "        text-align: right;\n",
       "    }\n",
       "</style>\n",
       "<table border=\"1\" class=\"dataframe\">\n",
       "  <thead>\n",
       "    <tr style=\"text-align: right;\">\n",
       "      <th></th>\n",
       "      <th>ㄱ</th>\n",
       "      <th>ㄴ</th>\n",
       "      <th>ㄷ</th>\n",
       "      <th>ㄹ</th>\n",
       "    </tr>\n",
       "  </thead>\n",
       "  <tbody>\n",
       "    <tr>\n",
       "      <th>2014-10-13</th>\n",
       "      <td>0.374076</td>\n",
       "      <td>-0.423429</td>\n",
       "      <td>-1.585813</td>\n",
       "      <td>-0.938017</td>\n",
       "    </tr>\n",
       "    <tr>\n",
       "      <th>2014-10-14</th>\n",
       "      <td>1.326414</td>\n",
       "      <td>-0.515296</td>\n",
       "      <td>0.483078</td>\n",
       "      <td>0.521667</td>\n",
       "    </tr>\n",
       "    <tr>\n",
       "      <th>2014-10-15</th>\n",
       "      <td>-0.615242</td>\n",
       "      <td>0.231775</td>\n",
       "      <td>-0.051104</td>\n",
       "      <td>0.847363</td>\n",
       "    </tr>\n",
       "    <tr>\n",
       "      <th>2014-10-16</th>\n",
       "      <td>0.619508</td>\n",
       "      <td>0.103334</td>\n",
       "      <td>-1.054579</td>\n",
       "      <td>-0.455348</td>\n",
       "    </tr>\n",
       "    <tr>\n",
       "      <th>2014-10-17</th>\n",
       "      <td>-0.444652</td>\n",
       "      <td>-0.890413</td>\n",
       "      <td>0.998023</td>\n",
       "      <td>0.841627</td>\n",
       "    </tr>\n",
       "    <tr>\n",
       "      <th>2014-10-18</th>\n",
       "      <td>-1.094604</td>\n",
       "      <td>0.841128</td>\n",
       "      <td>-0.365354</td>\n",
       "      <td>0.134990</td>\n",
       "    </tr>\n",
       "    <tr>\n",
       "      <th>2014-10-19</th>\n",
       "      <td>-0.016199</td>\n",
       "      <td>-0.790882</td>\n",
       "      <td>1.471686</td>\n",
       "      <td>-0.245235</td>\n",
       "    </tr>\n",
       "    <tr>\n",
       "      <th>2014-10-20</th>\n",
       "      <td>0.351693</td>\n",
       "      <td>0.409093</td>\n",
       "      <td>0.182443</td>\n",
       "      <td>0.891431</td>\n",
       "    </tr>\n",
       "    <tr>\n",
       "      <th>2014-10-21</th>\n",
       "      <td>-1.488846</td>\n",
       "      <td>-0.247125</td>\n",
       "      <td>-0.683742</td>\n",
       "      <td>-1.058776</td>\n",
       "    </tr>\n",
       "    <tr>\n",
       "      <th>2014-10-22</th>\n",
       "      <td>0.543781</td>\n",
       "      <td>1.707462</td>\n",
       "      <td>-1.105808</td>\n",
       "      <td>-1.900401</td>\n",
       "    </tr>\n",
       "    <tr>\n",
       "      <th>2014-10-23</th>\n",
       "      <td>-0.847678</td>\n",
       "      <td>0.046313</td>\n",
       "      <td>-0.737622</td>\n",
       "      <td>-0.130742</td>\n",
       "    </tr>\n",
       "    <tr>\n",
       "      <th>2014-10-24</th>\n",
       "      <td>1.265196</td>\n",
       "      <td>0.911370</td>\n",
       "      <td>0.337055</td>\n",
       "      <td>1.043153</td>\n",
       "    </tr>\n",
       "  </tbody>\n",
       "</table>\n",
       "</div>"
      ],
      "text/plain": [
       "                   ㄱ         ㄴ         ㄷ         ㄹ\n",
       "2014-10-13  0.374076 -0.423429 -1.585813 -0.938017\n",
       "2014-10-14  1.326414 -0.515296  0.483078  0.521667\n",
       "2014-10-15 -0.615242  0.231775 -0.051104  0.847363\n",
       "2014-10-16  0.619508  0.103334 -1.054579 -0.455348\n",
       "2014-10-17 -0.444652 -0.890413  0.998023  0.841627\n",
       "2014-10-18 -1.094604  0.841128 -0.365354  0.134990\n",
       "2014-10-19 -0.016199 -0.790882  1.471686 -0.245235\n",
       "2014-10-20  0.351693  0.409093  0.182443  0.891431\n",
       "2014-10-21 -1.488846 -0.247125 -0.683742 -1.058776\n",
       "2014-10-22  0.543781  1.707462 -1.105808 -1.900401\n",
       "2014-10-23 -0.847678  0.046313 -0.737622 -0.130742\n",
       "2014-10-24  1.265196  0.911370  0.337055  1.043153"
      ]
     },
     "execution_count": 8,
     "metadata": {},
     "output_type": "execute_result"
    }
   ],
   "source": [
    "dataframe = pd.DataFrame(np.random.randn(12,4), index=dates, columns=list('ㄱㄴㄷㄹ'))\n",
    "dataframe"
   ]
  },
  {
   "cell_type": "code",
   "execution_count": null,
   "metadata": {},
   "outputs": [],
   "source": []
  }
 ],
 "metadata": {
  "kernelspec": {
   "display_name": "Python 3",
   "language": "python",
   "name": "python3"
  },
  "language_info": {
   "codemirror_mode": {
    "name": "ipython",
    "version": 3
   },
   "file_extension": ".py",
   "mimetype": "text/x-python",
   "name": "python",
   "nbconvert_exporter": "python",
   "pygments_lexer": "ipython3",
   "version": "3.7.1"
  }
 },
 "nbformat": 4,
 "nbformat_minor": 2
}
