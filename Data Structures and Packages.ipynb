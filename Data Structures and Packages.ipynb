{
 "cells": [
  {
   "cell_type": "code",
   "execution_count": null,
   "metadata": {},
   "outputs": [],
   "source": [
    "#Tuples"
   ]
  },
  {
   "cell_type": "code",
   "execution_count": 5,
   "metadata": {},
   "outputs": [
    {
     "name": "stdout",
     "output_type": "stream",
     "text": [
      "(4, 5, 6)\n",
      "(4, 5, 6)\n",
      "((1, 2, 3), 4, 5, 6)\n",
      "4\n",
      "4\n",
      "(1, 2, 3)\n",
      "(4, 8, 7)\n",
      "('R', 'a', 'm', 'a', 'y', 'a', 'n', 'a')\n",
      "y\n"
     ]
    }
   ],
   "source": [
    "#A tuple is an immutable and fixed-length sequence of Python Objects.\n",
    "#Declaring a tuple\n",
    "tup = 4,5,6\n",
    "print(tup)\n",
    "#output : (4,5,6)\n",
    "\n",
    "#Advisable to use parenthesis \n",
    "tup = (4,5,6)\n",
    "print(tup)\n",
    "#output : (4,5,6)\n",
    "\n",
    "#nested tuples\n",
    "nested_tup = ((1,2,3),4,5,6)\n",
    "print(nested_tup)\n",
    "#output : ((1,2,3),4,5,6)\n",
    "\n",
    "#access the data individually by enclosing index in square brackets\n",
    "print(nested_tup[1])\n",
    "#output : 4\n",
    "\n",
    "#default index begins from 0\n",
    "print(tup[0])\n",
    "#output : 4\n",
    "print(nested_tup[0])\n",
    "#output : (1,2,3)\n",
    "\n",
    "#convert any sequences using tuple()\n",
    "tup = tuple([4,8,7])\n",
    "print(tup)\n",
    "#output : (4,8,7)\n",
    "\n",
    "#String representation\n",
    "tup = tuple('Ramayana')\n",
    "print(tup)\n",
    "#output : ('R','a','m','a','y','a','n','a')\n",
    "print(tup[4])\n",
    "#o/p : y"
   ]
  },
  {
   "cell_type": "code",
   "execution_count": 11,
   "metadata": {},
   "outputs": [
    {
     "data": {
      "text/plain": [
       "'D'"
      ]
     },
     "execution_count": 11,
     "metadata": {},
     "output_type": "execute_result"
    }
   ],
   "source": [
    "Data_Science = tuple('Data Science')\n",
    "Data_Science[0]"
   ]
  },
  {
   "cell_type": "code",
   "execution_count": 12,
   "metadata": {},
   "outputs": [
    {
     "name": "stdout",
     "output_type": "stream",
     "text": [
      "('foo', [1, 2, 3], True)\n"
     ]
    }
   ],
   "source": [
    "#Declare tuple as below\n",
    "tup = tuple(['foo',[1,2,3],True])\n",
    "print(tup)"
   ]
  },
  {
   "cell_type": "code",
   "execution_count": 13,
   "metadata": {},
   "outputs": [
    {
     "ename": "TypeError",
     "evalue": "'tuple' object does not support item assignment",
     "output_type": "error",
     "traceback": [
      "\u001b[0;31m---------------------------------------------------------------------------\u001b[0m",
      "\u001b[0;31mTypeError\u001b[0m                                 Traceback (most recent call last)",
      "\u001b[0;32m<ipython-input-13-7384026d392a>\u001b[0m in \u001b[0;36m<module>\u001b[0;34m\u001b[0m\n\u001b[1;32m      1\u001b[0m \u001b[0;31m#Let's try to change the obj in the tuple\u001b[0m\u001b[0;34m\u001b[0m\u001b[0;34m\u001b[0m\u001b[0;34m\u001b[0m\u001b[0m\n\u001b[0;32m----> 2\u001b[0;31m \u001b[0mtup\u001b[0m\u001b[0;34m[\u001b[0m\u001b[0;36m2\u001b[0m\u001b[0;34m]\u001b[0m \u001b[0;34m=\u001b[0m \u001b[0;32mFalse\u001b[0m\u001b[0;34m\u001b[0m\u001b[0;34m\u001b[0m\u001b[0m\n\u001b[0m",
      "\u001b[0;31mTypeError\u001b[0m: 'tuple' object does not support item assignment"
     ]
    }
   ],
   "source": [
    "#Let's try to change the obj in the tuple\n",
    "tup[2] = False\n",
    "#This means that tuple is immutable once you define its contents!"
   ]
  },
  {
   "cell_type": "code",
   "execution_count": 16,
   "metadata": {},
   "outputs": [
    {
     "name": "stdout",
     "output_type": "stream",
     "text": [
      "('foo', [1, 2, 3, 7], True)\n"
     ]
    }
   ],
   "source": [
    "#a tuple object which can be changed\n",
    "tup[1].append(7)\n",
    "print(tup)"
   ]
  },
  {
   "cell_type": "code",
   "execution_count": 20,
   "metadata": {},
   "outputs": [
    {
     "data": {
      "text/plain": [
       "(1, 2, 3, 'a', 'b', 'c')"
      ]
     },
     "execution_count": 20,
     "metadata": {},
     "output_type": "execute_result"
    }
   ],
   "source": [
    "#tuple concatenation\n",
    "tup1 = (1,2,3)\n",
    "tup2 = ('a','b','c')\n",
    "tup1 + tup2"
   ]
  },
  {
   "cell_type": "code",
   "execution_count": 21,
   "metadata": {},
   "outputs": [
    {
     "data": {
      "text/plain": [
       "('a', 'c', 'd', 2, 5, 6, 4)"
      ]
     },
     "execution_count": 21,
     "metadata": {},
     "output_type": "execute_result"
    }
   ],
   "source": [
    "('a','c','d')+(2,5,6,4)"
   ]
  },
  {
   "cell_type": "code",
   "execution_count": 23,
   "metadata": {},
   "outputs": [
    {
     "data": {
      "text/plain": [
       "('foo', [1, 2, 3, 7], True, 'foo', [1, 2, 3, 7], True)"
      ]
     },
     "execution_count": 23,
     "metadata": {},
     "output_type": "execute_result"
    }
   ],
   "source": [
    "#tuple multiplication\n",
    "tup * 2"
   ]
  },
  {
   "cell_type": "code",
   "execution_count": 24,
   "metadata": {},
   "outputs": [
    {
     "data": {
      "text/plain": [
       "()"
      ]
     },
     "execution_count": 24,
     "metadata": {},
     "output_type": "execute_result"
    }
   ],
   "source": [
    "tup * 0"
   ]
  },
  {
   "cell_type": "code",
   "execution_count": 25,
   "metadata": {},
   "outputs": [
    {
     "ename": "TypeError",
     "evalue": "can't multiply sequence by non-int of type 'float'",
     "output_type": "error",
     "traceback": [
      "\u001b[0;31m---------------------------------------------------------------------------\u001b[0m",
      "\u001b[0;31mTypeError\u001b[0m                                 Traceback (most recent call last)",
      "\u001b[0;32m<ipython-input-25-da3a4ac9f55d>\u001b[0m in \u001b[0;36m<module>\u001b[0;34m\u001b[0m\n\u001b[0;32m----> 1\u001b[0;31m \u001b[0mtup\u001b[0m\u001b[0;34m*\u001b[0m\u001b[0;36m3.14\u001b[0m\u001b[0;34m\u001b[0m\u001b[0;34m\u001b[0m\u001b[0m\n\u001b[0m",
      "\u001b[0;31mTypeError\u001b[0m: can't multiply sequence by non-int of type 'float'"
     ]
    }
   ],
   "source": [
    "tup*3.14      #note you can only multiply tuple by an integer"
   ]
  },
  {
   "cell_type": "code",
   "execution_count": 31,
   "metadata": {},
   "outputs": [
    {
     "data": {
      "text/plain": [
       "()"
      ]
     },
     "execution_count": 31,
     "metadata": {},
     "output_type": "execute_result"
    }
   ],
   "source": [
    "(tup1 + tup2) * -1   #multiplying tuple by a negative integer will also return () = tup * 0"
   ]
  },
  {
   "cell_type": "code",
   "execution_count": 32,
   "metadata": {},
   "outputs": [
    {
     "name": "stdout",
     "output_type": "stream",
     "text": [
      "4 5 6\n"
     ]
    }
   ],
   "source": [
    "#Value is assigned to the relevant rightmost variable\n",
    "tup = (4,5,6)\n",
    "a,b,c = tup\n",
    "print(a,b,c)"
   ]
  },
  {
   "cell_type": "code",
   "execution_count": 4,
   "metadata": {},
   "outputs": [
    {
     "name": "stdout",
     "output_type": "stream",
     "text": [
      "4 2 1\n",
      "4 5 1\n"
     ]
    }
   ],
   "source": [
    "#nested tuple unpacking\n",
    "tup = (4,5,6,(1,2))\n",
    "a,b,c,(d,e) = tup\n",
    "print(a,e,d)\n",
    "print(a,b,d)"
   ]
  },
  {
   "cell_type": "code",
   "execution_count": 9,
   "metadata": {},
   "outputs": [
    {
     "name": "stdout",
     "output_type": "stream",
     "text": [
      "4\n",
      "6\n",
      "[7, 1, 2, 3, 7, 8, 9, 0, 11, 2, 3, 43, 54, 66]\n"
     ]
    }
   ],
   "source": [
    "#rest operator\n",
    "temp = (4,5,6,7,1,2,3,7,8,9,0,11,2,3,43,54,66)\n",
    "a,b,c,*rest = temp\n",
    "print(a)\n",
    "print(c)\n",
    "print(rest)"
   ]
  },
  {
   "cell_type": "code",
   "execution_count": 10,
   "metadata": {},
   "outputs": [
    {
     "name": "stdout",
     "output_type": "stream",
     "text": [
      "4\n",
      "0\n",
      "1\n"
     ]
    }
   ],
   "source": [
    "#count operator\n",
    "tup = (2,2,3,5,2,4,2,4,1,0)\n",
    "print(tup.count(2))\n",
    "print(tup.count(7))\n",
    "print(tup.count(5))"
   ]
  },
  {
   "cell_type": "code",
   "execution_count": null,
   "metadata": {},
   "outputs": [],
   "source": [
    "#Lists "
   ]
  },
  {
   "cell_type": "code",
   "execution_count": null,
   "metadata": {},
   "outputs": [],
   "source": [
    "#List is a variable-length mutable data structure"
   ]
  },
  {
   "cell_type": "code",
   "execution_count": 11,
   "metadata": {},
   "outputs": [
    {
     "name": "stdout",
     "output_type": "stream",
     "text": [
      "[2, 3, 4, 'clap', None, False]\n"
     ]
    }
   ],
   "source": [
    "#define a list using square brackets\n",
    "list1 = [2,3,4, 'clap', None, False]\n",
    "print(list1)"
   ]
  },
  {
   "cell_type": "code",
   "execution_count": 13,
   "metadata": {},
   "outputs": [
    {
     "name": "stdout",
     "output_type": "stream",
     "text": [
      "2\n",
      "False\n"
     ]
    }
   ],
   "source": [
    "#accessing list elements\n",
    "print(list1[0])  #Just like in tuple, the index in the list also starts with zero and ends with length of the list\n",
    "print(list1[5])"
   ]
  },
  {
   "cell_type": "code",
   "execution_count": 18,
   "metadata": {},
   "outputs": [
    {
     "name": "stdout",
     "output_type": "stream",
     "text": [
      "(2, 2, 3, 5, 2, 4, 2, 4, 1, 0)\n",
      "<class 'tuple'>\n",
      "[2, 2, 3, 5, 2, 4, 2, 4, 1, 0]\n",
      "<class 'list'>\n"
     ]
    }
   ],
   "source": [
    "#declare a tuple\n",
    "tuple = ('Sneeze', 'Wipe', 'Breathe')\n",
    "#convert tuple to a list\n",
    "tup_to_list = list(tup)\n",
    "print(tup)\n",
    "print(type(tup))\n",
    "print(tup_to_list)\n",
    "print(type(tup_to_list))"
   ]
  },
  {
   "cell_type": "code",
   "execution_count": 27,
   "metadata": {},
   "outputs": [
    {
     "name": "stdout",
     "output_type": "stream",
     "text": [
      "['peek', 'a', 'baww']\n"
     ]
    }
   ],
   "source": [
    "#Adding and removing elements\n",
    "#modifying elements in-place\n",
    "a_list = ['peek','a','boo']\n",
    "a_list[2] = 'baww'\n",
    "print(a_list)"
   ]
  },
  {
   "cell_type": "code",
   "execution_count": 28,
   "metadata": {},
   "outputs": [
    {
     "name": "stdout",
     "output_type": "stream",
     "text": [
      "['peek', 'a', 'baww', 'please']\n"
     ]
    }
   ],
   "source": [
    "#append method\n",
    "a_list.append('please')\n",
    "print(a_list)"
   ]
  },
  {
   "cell_type": "code",
   "execution_count": 29,
   "metadata": {},
   "outputs": [
    {
     "name": "stdout",
     "output_type": "stream",
     "text": [
      "['hey', 'peek', 'a', 'baww', 'please']\n"
     ]
    }
   ],
   "source": [
    "#insert method\n",
    "a_list.insert(0,'hey')\n",
    "print(a_list)"
   ]
  },
  {
   "cell_type": "code",
   "execution_count": 30,
   "metadata": {},
   "outputs": [
    {
     "name": "stdout",
     "output_type": "stream",
     "text": [
      "['hey', 'peek', 'a', 'please']\n"
     ]
    }
   ],
   "source": [
    "#removing elements from specific place\n",
    "a_list.pop(3)\n",
    "print(a_list)"
   ]
  },
  {
   "cell_type": "code",
   "execution_count": 32,
   "metadata": {},
   "outputs": [
    {
     "name": "stdout",
     "output_type": "stream",
     "text": [
      "['hey', 'hello', 'namaste', 'pranam', 'hi', 'namaskar', 'hola', 'bonjour', 'salaam', 'Marhaba', 'Hallo', 'Hoi']\n",
      "['hey', 'hello', 'namaste', 'pranam', 'hi', 'namaskar', 'bonjour', 'salaam', 'Marhaba', 'Hallo', 'Hoi']\n"
     ]
    }
   ],
   "source": [
    "#using the remove method\n",
    "long_list = ['hey','hello','namaste','pranam','hi','namaskar','hola','bonjour','salaam','Marhaba','Hallo','Hoi' ]\n",
    "print(long_list)\n",
    "long_list.remove('hola')\n",
    "print(long_list)"
   ]
  },
  {
   "cell_type": "code",
   "execution_count": null,
   "metadata": {},
   "outputs": [],
   "source": []
  }
 ],
 "metadata": {
  "kernelspec": {
   "display_name": "Python 3",
   "language": "python",
   "name": "python3"
  },
  "language_info": {
   "codemirror_mode": {
    "name": "ipython",
    "version": 3
   },
   "file_extension": ".py",
   "mimetype": "text/x-python",
   "name": "python",
   "nbconvert_exporter": "python",
   "pygments_lexer": "ipython3",
   "version": "3.7.1"
  }
 },
 "nbformat": 4,
 "nbformat_minor": 2
}
