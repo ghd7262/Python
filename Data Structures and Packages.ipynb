{
 "cells": [
  {
   "cell_type": "code",
   "execution_count": 5,
   "metadata": {},
   "outputs": [
    {
     "name": "stdout",
     "output_type": "stream",
     "text": [
      "(4, 5, 6)\n",
      "(4, 5, 6)\n",
      "((1, 2, 3), 4, 5, 6)\n",
      "4\n",
      "4\n",
      "(1, 2, 3)\n",
      "(4, 8, 7)\n",
      "('R', 'a', 'm', 'a', 'y', 'a', 'n', 'a')\n",
      "y\n"
     ]
    }
   ],
   "source": [
    "#A tuple is an immutable and fixed-length sequence of Python Objects.\n",
    "#Declaring a tuple\n",
    "tup = 4,5,6\n",
    "print(tup)\n",
    "#output : (4,5,6)\n",
    "\n",
    "#Advisable to use parenthesis \n",
    "tup = (4,5,6)\n",
    "print(tup)\n",
    "#output : (4,5,6)\n",
    "\n",
    "#nested tuples\n",
    "nested_tup = ((1,2,3),4,5,6)\n",
    "print(nested_tup)\n",
    "#output : ((1,2,3),4,5,6)\n",
    "\n",
    "#access the data individually by enclosing index in square brackets\n",
    "print(nested_tup[1])\n",
    "#output : 4\n",
    "\n",
    "#default index begins from 0\n",
    "print(tup[0])\n",
    "#output : 4\n",
    "print(nested_tup[0])\n",
    "#output : (1,2,3)\n",
    "\n",
    "#convert any sequences using tuple()\n",
    "tup = tuple([4,8,7])\n",
    "print(tup)\n",
    "#output : (4,8,7)\n",
    "\n",
    "#String representation\n",
    "tup = tuple('Ramayana')\n",
    "print(tup)\n",
    "#output : ('R','a','m','a','y','a','n','a')\n",
    "print(tup[4])\n",
    "#o/p : y"
   ]
  },
  {
   "cell_type": "code",
   "execution_count": null,
   "metadata": {},
   "outputs": [],
   "source": []
  }
 ],
 "metadata": {
  "kernelspec": {
   "display_name": "Python 3",
   "language": "python",
   "name": "python3"
  },
  "language_info": {
   "codemirror_mode": {
    "name": "ipython",
    "version": 3
   },
   "file_extension": ".py",
   "mimetype": "text/x-python",
   "name": "python",
   "nbconvert_exporter": "python",
   "pygments_lexer": "ipython3",
   "version": "3.7.1"
  }
 },
 "nbformat": 4,
 "nbformat_minor": 2
}
