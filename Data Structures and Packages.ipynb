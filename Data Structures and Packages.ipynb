{
 "cells": [
  {
   "cell_type": "markdown",
   "metadata": {},
   "source": [
    "# Tuples"
   ]
  },
  {
   "cell_type": "markdown",
   "metadata": {},
   "source": [
    "#A tuple is an immutable and fixed-length sequence of Python Objects."
   ]
  },
  {
   "cell_type": "code",
   "execution_count": 17,
   "metadata": {},
   "outputs": [
    {
     "name": "stdout",
     "output_type": "stream",
     "text": [
      "(4, 5, 6)\n",
      "(4, 5, 6)\n",
      "((1, 2, 3), 4, 5, 6)\n",
      "4\n",
      "4\n",
      "(1, 2, 3)\n",
      "(4, 8, 7)\n",
      "('R', 'a', 'm', 'a', 'y', 'a', 'n', 'a')\n",
      "y\n"
     ]
    }
   ],
   "source": [
    "#Declaring a tuple\n",
    "tup = 4,5,6\n",
    "print(tup)\n",
    "#output : (4,5,6)\n",
    "\n",
    "#Advisable to use parenthesis \n",
    "tup = (4,5,6)\n",
    "print(tup)\n",
    "#output : (4,5,6)\n",
    "\n",
    "#nested tuples\n",
    "nested_tup = ((1,2,3),4,5,6)\n",
    "print(nested_tup)\n",
    "#output : ((1,2,3),4,5,6)\n",
    "\n",
    "#access the data individually by enclosing index in square brackets\n",
    "print(nested_tup[1])\n",
    "#output : 4\n",
    "\n",
    "#default index begins from 0\n",
    "print(tup[0])\n",
    "#output : 4\n",
    "print(nested_tup[0])\n",
    "#output : (1,2,3)\n",
    "\n",
    "#convert any sequences using tuple()\n",
    "tup = tuple([4,8,7])\n",
    "print(tup)\n",
    "#output : (4,8,7)\n",
    "\n",
    "#String representation\n",
    "tup = tuple('Ramayana')\n",
    "print(tup)\n",
    "#output : ('R','a','m','a','y','a','n','a')\n",
    "print(tup[4])\n",
    "#o/p : y"
   ]
  },
  {
   "cell_type": "code",
   "execution_count": 11,
   "metadata": {},
   "outputs": [
    {
     "data": {
      "text/plain": [
       "'D'"
      ]
     },
     "execution_count": 11,
     "metadata": {},
     "output_type": "execute_result"
    }
   ],
   "source": [
    "Data_Science = tuple('Data Science')\n",
    "Data_Science[0]"
   ]
  },
  {
   "cell_type": "code",
   "execution_count": 12,
   "metadata": {},
   "outputs": [
    {
     "name": "stdout",
     "output_type": "stream",
     "text": [
      "('foo', [1, 2, 3], True)\n"
     ]
    }
   ],
   "source": [
    "#Declare tuple as below\n",
    "tup = tuple(['foo',[1,2,3],True])\n",
    "print(tup)"
   ]
  },
  {
   "cell_type": "code",
   "execution_count": 13,
   "metadata": {},
   "outputs": [
    {
     "ename": "TypeError",
     "evalue": "'tuple' object does not support item assignment",
     "output_type": "error",
     "traceback": [
      "\u001b[0;31m---------------------------------------------------------------------------\u001b[0m",
      "\u001b[0;31mTypeError\u001b[0m                                 Traceback (most recent call last)",
      "\u001b[0;32m<ipython-input-13-7384026d392a>\u001b[0m in \u001b[0;36m<module>\u001b[0;34m\u001b[0m\n\u001b[1;32m      1\u001b[0m \u001b[0;31m#Let's try to change the obj in the tuple\u001b[0m\u001b[0;34m\u001b[0m\u001b[0;34m\u001b[0m\u001b[0;34m\u001b[0m\u001b[0m\n\u001b[0;32m----> 2\u001b[0;31m \u001b[0mtup\u001b[0m\u001b[0;34m[\u001b[0m\u001b[0;36m2\u001b[0m\u001b[0;34m]\u001b[0m \u001b[0;34m=\u001b[0m \u001b[0;32mFalse\u001b[0m\u001b[0;34m\u001b[0m\u001b[0;34m\u001b[0m\u001b[0m\n\u001b[0m",
      "\u001b[0;31mTypeError\u001b[0m: 'tuple' object does not support item assignment"
     ]
    }
   ],
   "source": [
    "#Let's try to change the obj in the tuple\n",
    "tup[2] = False\n",
    "#This means that tuple is immutable once you define its contents!"
   ]
  },
  {
   "cell_type": "code",
   "execution_count": 16,
   "metadata": {},
   "outputs": [
    {
     "name": "stdout",
     "output_type": "stream",
     "text": [
      "('foo', [1, 2, 3, 7], True)\n"
     ]
    }
   ],
   "source": [
    "#a tuple object which can be changed\n",
    "tup[1].append(7)\n",
    "print(tup)"
   ]
  },
  {
   "cell_type": "code",
   "execution_count": 20,
   "metadata": {},
   "outputs": [
    {
     "data": {
      "text/plain": [
       "(1, 2, 3, 'a', 'b', 'c')"
      ]
     },
     "execution_count": 20,
     "metadata": {},
     "output_type": "execute_result"
    }
   ],
   "source": [
    "#tuple concatenation\n",
    "tup1 = (1,2,3)\n",
    "tup2 = ('a','b','c')\n",
    "tup1 + tup2"
   ]
  },
  {
   "cell_type": "code",
   "execution_count": 21,
   "metadata": {},
   "outputs": [
    {
     "data": {
      "text/plain": [
       "('a', 'c', 'd', 2, 5, 6, 4)"
      ]
     },
     "execution_count": 21,
     "metadata": {},
     "output_type": "execute_result"
    }
   ],
   "source": [
    "('a','c','d')+(2,5,6,4)"
   ]
  },
  {
   "cell_type": "code",
   "execution_count": 23,
   "metadata": {},
   "outputs": [
    {
     "data": {
      "text/plain": [
       "('foo', [1, 2, 3, 7], True, 'foo', [1, 2, 3, 7], True)"
      ]
     },
     "execution_count": 23,
     "metadata": {},
     "output_type": "execute_result"
    }
   ],
   "source": [
    "#tuple multiplication\n",
    "tup * 2"
   ]
  },
  {
   "cell_type": "code",
   "execution_count": 24,
   "metadata": {},
   "outputs": [
    {
     "data": {
      "text/plain": [
       "()"
      ]
     },
     "execution_count": 24,
     "metadata": {},
     "output_type": "execute_result"
    }
   ],
   "source": [
    "tup * 0"
   ]
  },
  {
   "cell_type": "code",
   "execution_count": 25,
   "metadata": {},
   "outputs": [
    {
     "ename": "TypeError",
     "evalue": "can't multiply sequence by non-int of type 'float'",
     "output_type": "error",
     "traceback": [
      "\u001b[0;31m---------------------------------------------------------------------------\u001b[0m",
      "\u001b[0;31mTypeError\u001b[0m                                 Traceback (most recent call last)",
      "\u001b[0;32m<ipython-input-25-da3a4ac9f55d>\u001b[0m in \u001b[0;36m<module>\u001b[0;34m\u001b[0m\n\u001b[0;32m----> 1\u001b[0;31m \u001b[0mtup\u001b[0m\u001b[0;34m*\u001b[0m\u001b[0;36m3.14\u001b[0m\u001b[0;34m\u001b[0m\u001b[0;34m\u001b[0m\u001b[0m\n\u001b[0m",
      "\u001b[0;31mTypeError\u001b[0m: can't multiply sequence by non-int of type 'float'"
     ]
    }
   ],
   "source": [
    "tup*3.14      #note you can only multiply tuple by an integer"
   ]
  },
  {
   "cell_type": "code",
   "execution_count": 31,
   "metadata": {},
   "outputs": [
    {
     "data": {
      "text/plain": [
       "()"
      ]
     },
     "execution_count": 31,
     "metadata": {},
     "output_type": "execute_result"
    }
   ],
   "source": [
    "(tup1 + tup2) * -1   #multiplying tuple by a negative integer will also return () = tup * 0"
   ]
  },
  {
   "cell_type": "code",
   "execution_count": 32,
   "metadata": {},
   "outputs": [
    {
     "name": "stdout",
     "output_type": "stream",
     "text": [
      "4 5 6\n"
     ]
    }
   ],
   "source": [
    "#Value is assigned to the relevant rightmost variable\n",
    "tup = (4,5,6)\n",
    "a,b,c = tup\n",
    "print(a,b,c)"
   ]
  },
  {
   "cell_type": "code",
   "execution_count": 4,
   "metadata": {},
   "outputs": [
    {
     "name": "stdout",
     "output_type": "stream",
     "text": [
      "4 2 1\n",
      "4 5 1\n"
     ]
    }
   ],
   "source": [
    "#nested tuple unpacking\n",
    "tup = (4,5,6,(1,2))\n",
    "a,b,c,(d,e) = tup\n",
    "print(a,e,d)\n",
    "print(a,b,d)"
   ]
  },
  {
   "cell_type": "code",
   "execution_count": 9,
   "metadata": {},
   "outputs": [
    {
     "name": "stdout",
     "output_type": "stream",
     "text": [
      "4\n",
      "6\n",
      "[7, 1, 2, 3, 7, 8, 9, 0, 11, 2, 3, 43, 54, 66]\n"
     ]
    }
   ],
   "source": [
    "#rest operator\n",
    "temp = (4,5,6,7,1,2,3,7,8,9,0,11,2,3,43,54,66)\n",
    "a,b,c,*rest = temp\n",
    "print(a)\n",
    "print(c)\n",
    "print(rest)"
   ]
  },
  {
   "cell_type": "code",
   "execution_count": 10,
   "metadata": {},
   "outputs": [
    {
     "name": "stdout",
     "output_type": "stream",
     "text": [
      "4\n",
      "0\n",
      "1\n"
     ]
    }
   ],
   "source": [
    "#count operator\n",
    "tup = (2,2,3,5,2,4,2,4,1,0)\n",
    "print(tup.count(2))\n",
    "print(tup.count(7))\n",
    "print(tup.count(5))"
   ]
  },
  {
   "cell_type": "markdown",
   "metadata": {},
   "source": [
    "# Lists "
   ]
  },
  {
   "cell_type": "markdown",
   "metadata": {},
   "source": [
    "#List is a variable-length mutable data structure"
   ]
  },
  {
   "cell_type": "code",
   "execution_count": 11,
   "metadata": {},
   "outputs": [
    {
     "name": "stdout",
     "output_type": "stream",
     "text": [
      "[2, 3, 4, 'clap', None, False]\n"
     ]
    }
   ],
   "source": [
    "#define a list using square brackets\n",
    "list1 = [2,3,4, 'clap', None, False]\n",
    "print(list1)"
   ]
  },
  {
   "cell_type": "code",
   "execution_count": 13,
   "metadata": {},
   "outputs": [
    {
     "name": "stdout",
     "output_type": "stream",
     "text": [
      "2\n",
      "False\n"
     ]
    }
   ],
   "source": [
    "#accessing list elements\n",
    "print(list1[0])  #Just like in tuple, the index in the list also starts with zero and ends with length of the list\n",
    "print(list1[5])"
   ]
  },
  {
   "cell_type": "code",
   "execution_count": 18,
   "metadata": {},
   "outputs": [
    {
     "name": "stdout",
     "output_type": "stream",
     "text": [
      "(2, 2, 3, 5, 2, 4, 2, 4, 1, 0)\n",
      "<class 'tuple'>\n",
      "[2, 2, 3, 5, 2, 4, 2, 4, 1, 0]\n",
      "<class 'list'>\n"
     ]
    }
   ],
   "source": [
    "#declare a tuple\n",
    "tuple = ('Sneeze', 'Wipe', 'Breathe')\n",
    "#convert tuple to a list\n",
    "tup_to_list = list(tup)\n",
    "print(tup)\n",
    "print(type(tup))\n",
    "print(tup_to_list)\n",
    "print(type(tup_to_list))"
   ]
  },
  {
   "cell_type": "code",
   "execution_count": 27,
   "metadata": {},
   "outputs": [
    {
     "name": "stdout",
     "output_type": "stream",
     "text": [
      "['peek', 'a', 'baww']\n"
     ]
    }
   ],
   "source": [
    "#Adding and removing elements\n",
    "#modifying elements in-place\n",
    "a_list = ['peek','a','boo']\n",
    "a_list[2] = 'baww'\n",
    "print(a_list)"
   ]
  },
  {
   "cell_type": "code",
   "execution_count": 28,
   "metadata": {},
   "outputs": [
    {
     "name": "stdout",
     "output_type": "stream",
     "text": [
      "['peek', 'a', 'baww', 'please']\n"
     ]
    }
   ],
   "source": [
    "#append method\n",
    "a_list.append('please')\n",
    "print(a_list)"
   ]
  },
  {
   "cell_type": "code",
   "execution_count": 29,
   "metadata": {},
   "outputs": [
    {
     "name": "stdout",
     "output_type": "stream",
     "text": [
      "['hey', 'peek', 'a', 'baww', 'please']\n"
     ]
    }
   ],
   "source": [
    "#insert method\n",
    "a_list.insert(0,'hey')\n",
    "print(a_list)"
   ]
  },
  {
   "cell_type": "code",
   "execution_count": 30,
   "metadata": {},
   "outputs": [
    {
     "name": "stdout",
     "output_type": "stream",
     "text": [
      "['hey', 'peek', 'a', 'please']\n"
     ]
    }
   ],
   "source": [
    "#removing elements from specific place\n",
    "a_list.pop(3)\n",
    "print(a_list)"
   ]
  },
  {
   "cell_type": "code",
   "execution_count": 32,
   "metadata": {},
   "outputs": [
    {
     "name": "stdout",
     "output_type": "stream",
     "text": [
      "['hey', 'hello', 'namaste', 'pranam', 'hi', 'namaskar', 'hola', 'bonjour', 'salaam', 'Marhaba', 'Hallo', 'Hoi']\n",
      "['hey', 'hello', 'namaste', 'pranam', 'hi', 'namaskar', 'bonjour', 'salaam', 'Marhaba', 'Hallo', 'Hoi']\n"
     ]
    }
   ],
   "source": [
    "#using the remove method\n",
    "long_list = ['hey','hello','namaste','pranam','hi','namaskar','hola','bonjour','salaam','Marhaba','Hallo','Hoi' ]\n",
    "print(long_list)\n",
    "long_list.remove('hola')\n",
    "print(long_list)"
   ]
  },
  {
   "cell_type": "markdown",
   "metadata": {},
   "source": [
    "#Combining and contrasting a list"
   ]
  },
  {
   "cell_type": "code",
   "execution_count": 33,
   "metadata": {},
   "outputs": [
    {
     "data": {
      "text/plain": [
       "[1, 2, 3, 'a', 'b', 'c']"
      ]
     },
     "execution_count": 33,
     "metadata": {},
     "output_type": "execute_result"
    }
   ],
   "source": [
    "#concatenating using + operator\n",
    "[1,2,3]+['a','b','c']"
   ]
  },
  {
   "cell_type": "code",
   "execution_count": 3,
   "metadata": {},
   "outputs": [
    {
     "name": "stdout",
     "output_type": "stream",
     "text": [
      "['what', 'how', 'why', 'where', 'when', 'who']\n"
     ]
    }
   ],
   "source": [
    "#extend method\n",
    "a = ['what', 'how','why']\n",
    "a.extend(['where','when','who'])\n",
    "print(a)"
   ]
  },
  {
   "cell_type": "markdown",
   "metadata": {},
   "source": [
    "#slicing: slicing is selecting sections of your defined listed as per your choice"
   ]
  },
  {
   "cell_type": "code",
   "execution_count": 5,
   "metadata": {},
   "outputs": [
    {
     "name": "stdout",
     "output_type": "stream",
     "text": [
      "['E', 'N', 'J', 'O', 'Y', 'L', 'I', 'F', 'E', '<3']\n"
     ]
    }
   ],
   "source": [
    "#slicing a list using [] operator\n",
    "seq = ['E','N','J','O','Y','L','I','F','E','<3']\n",
    "print(seq)"
   ]
  },
  {
   "cell_type": "code",
   "execution_count": 6,
   "metadata": {},
   "outputs": [
    {
     "data": {
      "text/plain": [
       "['J', 'O', 'Y']"
      ]
     },
     "execution_count": 6,
     "metadata": {},
     "output_type": "execute_result"
    }
   ],
   "source": [
    "#slice the list using the inclusive start_index and exclusiv stop_index\n",
    "#syntax: list_name[start_index:stop_index]\n",
    "seq[2:5]"
   ]
  },
  {
   "cell_type": "code",
   "execution_count": 9,
   "metadata": {},
   "outputs": [
    {
     "name": "stdout",
     "output_type": "stream",
     "text": [
      "['E', 'N', 'J', 'O', 'Y']\n",
      "['L', 'I', 'F', 'E', '<3']\n"
     ]
    }
   ],
   "source": [
    "#an empty start or end index implies beginning or end resps.\n",
    "print(seq[:5])\n",
    "print(seq[5:])"
   ]
  },
  {
   "cell_type": "code",
   "execution_count": 10,
   "metadata": {},
   "outputs": [
    {
     "data": {
      "text/plain": [
       "['<3']"
      ]
     },
     "execution_count": 10,
     "metadata": {},
     "output_type": "execute_result"
    }
   ],
   "source": [
    "#use negative indices that start at -1 from end of list\n",
    "seq[-1:] #start slicing from '-1th' element until the end"
   ]
  },
  {
   "cell_type": "code",
   "execution_count": 11,
   "metadata": {},
   "outputs": [
    {
     "data": {
      "text/plain": [
       "['E', 'N', 'J', 'O', 'Y', 'L', 'I']"
      ]
     },
     "execution_count": 11,
     "metadata": {},
     "output_type": "execute_result"
    }
   ],
   "source": [
    "seq[:-3] #start slicing from beginning and stop at element before '-3rd' index"
   ]
  },
  {
   "cell_type": "code",
   "execution_count": 12,
   "metadata": {},
   "outputs": [
    {
     "data": {
      "text/plain": [
       "['J', 'O', 'Y', 'L', 'I', 'F']"
      ]
     },
     "execution_count": 12,
     "metadata": {},
     "output_type": "execute_result"
    }
   ],
   "source": [
    "seq[-8:-2] #start slicing from '-6th' element and go up to '-2ht' element"
   ]
  },
  {
   "cell_type": "code",
   "execution_count": 13,
   "metadata": {},
   "outputs": [
    {
     "data": {
      "text/plain": [
       "['E', 'J', 'Y', 'I', 'E']"
      ]
     },
     "execution_count": 13,
     "metadata": {},
     "output_type": "execute_result"
    }
   ],
   "source": [
    "#Use a double colon to imply \"everyother\"\n",
    "seq[::2]"
   ]
  },
  {
   "cell_type": "code",
   "execution_count": 14,
   "metadata": {},
   "outputs": [
    {
     "data": {
      "text/plain": [
       "['<3', 'I', 'O', 'E']"
      ]
     },
     "execution_count": 14,
     "metadata": {},
     "output_type": "execute_result"
    }
   ],
   "source": [
    "seq[::-3]"
   ]
  },
  {
   "cell_type": "code",
   "execution_count": 15,
   "metadata": {},
   "outputs": [
    {
     "data": {
      "text/plain": [
       "['<3', 'E', 'F', 'I', 'L', 'Y', 'O', 'J', 'N', 'E']"
      ]
     },
     "execution_count": 15,
     "metadata": {},
     "output_type": "execute_result"
    }
   ],
   "source": [
    "#reverse the list in a stud way\n",
    "seq[::-1]"
   ]
  },
  {
   "cell_type": "markdown",
   "metadata": {},
   "source": [
    "# Dict"
   ]
  },
  {
   "cell_type": "markdown",
   "metadata": {},
   "source": [
    "#Dict or dictionary in python is unordered, mutable and indexed data structure.\n",
    "#It is considered the most important and detailed data structure in Python."
   ]
  },
  {
   "cell_type": "code",
   "execution_count": 19,
   "metadata": {},
   "outputs": [
    {
     "name": "stdout",
     "output_type": "stream",
     "text": [
      "<class 'dict'>\n",
      "{}\n"
     ]
    }
   ],
   "source": [
    "#Create a dict using curly braces\n",
    "my_dict = {}\n",
    "print(type(my_dict))\n",
    "print(my_dict)"
   ]
  },
  {
   "cell_type": "code",
   "execution_count": 20,
   "metadata": {},
   "outputs": [
    {
     "name": "stdout",
     "output_type": "stream",
     "text": [
      "{'Movie name': 'The Shawshank Redemption', 'Genre': 'Drama/Mystery', 'Release Year': 1994, 'Cast': ['Tim Robbins', 'Morgan Freeman', 'Bob Gunton'], 'Director': 'Frank Darabont'}\n"
     ]
    }
   ],
   "source": [
    "#defining key:value pairs\n",
    "my_dict = {\n",
    "    'Movie name':'The Shawshank Redemption',\n",
    "    'Genre' : 'Drama/Mystery',\n",
    "    'Release Year' : 1994,\n",
    "    'Cast' : ['Tim Robbins', 'Morgan Freeman', 'Bob Gunton'],\n",
    "    'Director' : 'Frank Darabont'\n",
    "}\n",
    "print(my_dict)"
   ]
  },
  {
   "cell_type": "code",
   "execution_count": 21,
   "metadata": {
    "scrolled": true
   },
   "outputs": [
    {
     "name": "stdout",
     "output_type": "stream",
     "text": [
      "The Shawshank Redemption\n"
     ]
    }
   ],
   "source": [
    "#accessing individual elements \n",
    "print(my_dict['Movie name'])"
   ]
  },
  {
   "cell_type": "markdown",
   "metadata": {},
   "source": [
    "#you can create empty dict using {}"
   ]
  },
  {
   "cell_type": "code",
   "execution_count": 24,
   "metadata": {},
   "outputs": [
    {
     "name": "stdout",
     "output_type": "stream",
     "text": [
      "['Tim Robbins', 'Morgan Freeman', 'Bob Gunton']\n",
      "Tim Robbins\n",
      "Bob Gunton\n"
     ]
    }
   ],
   "source": [
    "#accessing a list of values\n",
    "print(my_dict['Cast'])\n",
    "print(my_dict['Cast'][0])\n",
    "print(my_dict['Cast'][2])"
   ]
  },
  {
   "cell_type": "code",
   "execution_count": 52,
   "metadata": {},
   "outputs": [
    {
     "name": "stdout",
     "output_type": "stream",
     "text": [
      "{'Country': 'India', 'State': 'Maharashtra', 'District': 'Mumbai', 'City': 'Mulund', 'Pincode': '40080', 'Street': 'M.G. Road'}\n"
     ]
    }
   ],
   "source": [
    "#define a dict\n",
    "dict1 = {\n",
    "    'Country':'India',\n",
    "    'State' : 'Maharashtra',\n",
    "    'District' : 'Mumbai',\n",
    "    'City' : 'Mulund',\n",
    "    'Pincode' : '40080'\n",
    "}\n",
    "#add new key to the dict\n",
    "dict1['Street']='M.G. Road'\n",
    "print(dict1)\n"
   ]
  },
  {
   "cell_type": "code",
   "execution_count": 53,
   "metadata": {},
   "outputs": [
    {
     "data": {
      "text/plain": [
       "True"
      ]
     },
     "execution_count": 53,
     "metadata": {},
     "output_type": "execute_result"
    }
   ],
   "source": [
    "#check if an item is present in dict or no\n",
    "'City' in dict1"
   ]
  },
  {
   "cell_type": "code",
   "execution_count": 54,
   "metadata": {},
   "outputs": [],
   "source": [
    "#delete using del keyword\n",
    "del dict1['Street']"
   ]
  },
  {
   "cell_type": "code",
   "execution_count": 55,
   "metadata": {},
   "outputs": [
    {
     "name": "stdout",
     "output_type": "stream",
     "text": [
      "40080\n"
     ]
    }
   ],
   "source": [
    "#pop method\n",
    "ret = dict1.pop('Pincode')\n",
    "print(ret)"
   ]
  },
  {
   "cell_type": "code",
   "execution_count": 56,
   "metadata": {},
   "outputs": [
    {
     "name": "stdout",
     "output_type": "stream",
     "text": [
      "{'Country': 'India', 'State': 'Maharashtra', 'District': 'Mumbai', 'City': 'Mulund'}\n"
     ]
    }
   ],
   "source": [
    "print(dict1)"
   ]
  },
  {
   "cell_type": "code",
   "execution_count": null,
   "metadata": {},
   "outputs": [],
   "source": []
  }
 ],
 "metadata": {
  "kernelspec": {
   "display_name": "Python 3",
   "language": "python",
   "name": "python3"
  },
  "language_info": {
   "codemirror_mode": {
    "name": "ipython",
    "version": 3
   },
   "file_extension": ".py",
   "mimetype": "text/x-python",
   "name": "python",
   "nbconvert_exporter": "python",
   "pygments_lexer": "ipython3",
   "version": "3.7.1"
  }
 },
 "nbformat": 4,
 "nbformat_minor": 2
}
